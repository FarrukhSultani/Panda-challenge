{
 "cells": [
  {
   "cell_type": "code",
   "execution_count": null,
   "id": "eb53b465",
   "metadata": {},
   "outputs": [],
   "source": [
    "#merging the data in both CSV files \n",
    "\n",
    "schools_df = pd.read_csv(\"/Users/farrukh/Documents/Data Analytics/Farrukh-project/Panda/Panda-challenge/Resources/schools_complete.csv\")\n",
    "students_df = pd.read_csv(\"/Users/farrukh/Documents/Data Analytics/Farrukh-project/Panda/Panda-challenge/Resources/students_complete.csv\")\n",
    "schools_df.rename(columns = {\"name\": \"schools\"}, inplace = True)\n",
    "merged_df = students_df.merge(schools_df, how = \"left\", on = \"schools\")"
   ]
  }
 ],
 "metadata": {
  "kernelspec": {
   "display_name": "PythonData",
   "language": "python",
   "name": "pythondata"
  },
  "language_info": {
   "codemirror_mode": {
    "name": "ipython",
    "version": 3
   },
   "file_extension": ".py",
   "mimetype": "text/x-python",
   "name": "python",
   "nbconvert_exporter": "python",
   "pygments_lexer": "ipython3",
   "version": "3.7.7"
  }
 },
 "nbformat": 4,
 "nbformat_minor": 5
}
